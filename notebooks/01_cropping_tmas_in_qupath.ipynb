{
 "cells": [
  {
   "cell_type": "markdown",
   "id": "4d2cfc1f-61f5-4688-bd71-6b83c0fbe0c7",
   "metadata": {},
   "source": [
    "# Cropping TMAs in QuPath\n",
    "\n",
    "When working with tissue microarrays (TMAs), it is advisable to crop them into smaller images, so that you obtain one image per crop. This can for example be done using the QuPath TMA dearrayer."
   ]
  },
  {
   "cell_type": "markdown",
   "id": "b21f6cc3-4ee3-43c8-a72b-f5dd39dacca9",
   "metadata": {},
   "source": [
    "As a first step, open your image in QuPath. For this example, we consider a TMA with only two cores.\n",
    "\n",
    "![The QuPath interface after loading in the data](../assets/qupath_01.png)"
   ]
  },
  {
   "cell_type": "markdown",
   "id": "eafd4a2c-1177-4dcf-838c-76825277f4be",
   "metadata": {},
   "source": [
    "Navigate to `TMA/TMA Dearrayer` in the toolbar. This will automatically set up a TMA grid, which you can then manually adjust. It should look similar to the image below.\n",
    "\n",
    "![The TMA dearrayer provides a semi-automated way of identifying cores within the TMA](../assets/qupath_02.png)"
   ]
  },
  {
   "cell_type": "markdown",
   "id": "e5955e54-8c7b-4565-aee7-a0866c40de53",
   "metadata": {},
   "source": [
    "Finally, navigate to `Measure/Show TMA Measurements` and save the annotations.\n",
    "\n",
    "![QuPath enables the export of the coordinates of cores in txt format](../assets/qupath_03.png)"
   ]
  },
  {
   "cell_type": "markdown",
   "id": "b6c2ad3f-f538-4335-b7b2-061d9f7998ab",
   "metadata": {},
   "source": [
    "You should now have three files:\n",
    "- the original qptiff file showing the full TMA\n",
    "- the marker list that assigns each channel to a protein\n",
    "- the annotations that assign each core to a position on the big TMA slide\n",
    "\n",
    "If you have sample identifiers beyond the default ones in QuPath (A-1, A-2, etc.), it is advised to change those in the annotation file directly. This will facilitate matching your images to your metadata later.\n",
    "\n",
    "Once you have assembled these files, you can have a look at how to run the snakemake pipeline in the next notebook."
   ]
  }
 ],
 "metadata": {
  "kernelspec": {
   "display_name": "tmp_env_3",
   "language": "python",
   "name": "tmp_env_3"
  },
  "language_info": {
   "codemirror_mode": {
    "name": "ipython",
    "version": 3
   },
   "file_extension": ".py",
   "mimetype": "text/x-python",
   "name": "python",
   "nbconvert_exporter": "python",
   "pygments_lexer": "ipython3",
   "version": "3.10.0"
  }
 },
 "nbformat": 4,
 "nbformat_minor": 5
}
