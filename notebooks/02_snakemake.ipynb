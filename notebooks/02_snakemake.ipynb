{
 "cells": [
  {
   "cell_type": "markdown",
   "id": "2df21838-7831-4433-9d5d-66ce2359f910",
   "metadata": {},
   "source": [
    "This notebook is currently under construction."
   ]
  }
 ],
 "metadata": {
  "kernelspec": {
   "display_name": "tmp_env_3",
   "language": "python",
   "name": "tmp_env_3"
  },
  "language_info": {
   "codemirror_mode": {
    "name": "ipython",
    "version": 3
   },
   "file_extension": ".py",
   "mimetype": "text/x-python",
   "name": "python",
   "nbconvert_exporter": "python",
   "pygments_lexer": "ipython3",
   "version": "3.10.0"
  }
 },
 "nbformat": 4,
 "nbformat_minor": 5
}
