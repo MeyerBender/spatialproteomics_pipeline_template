{
 "cells": [
  {
   "cell_type": "markdown",
   "id": "2df21838-7831-4433-9d5d-66ce2359f910",
   "metadata": {},
   "source": [
    "# Running a spatialproteomics workflow in snakemake\n",
    "\n",
    "To run the workflow, navigate into the `pipeline` folder and run `snakemake --profile profile`."
   ]
  },
  {
   "cell_type": "markdown",
   "id": "14491cbe-8aa7-457b-b790-9355d73c8f0a",
   "metadata": {},
   "source": [
    "## Customizability\n",
    "\n",
    "To customize the workflow, change the paths in `config.yaml` and the settings in `configs`.\n",
    "To adjust the workflow to your specific cluster architecture (different queues, GPU support, memory requirements, etc.), alter `profile/config.yaml`."
   ]
  },
  {
   "cell_type": "markdown",
   "id": "785b9f86-26a4-4cf2-b650-b50a6b449716",
   "metadata": {},
   "source": [
    "## Functionality\n",
    "\n",
    "The pipeline is composed of a couple of rules.\n",
    "\n",
    "#### Cropping TMAs (rule crop_tma)\n",
    "\n",
    "This rule takes as input the centroids of TMA cores and the full TMA image, as well as a list that assigns each channel to a marker (standard output from Akoya).\n",
    "It then splits the large image into multiple smaller ones, and also creates summary plots that show which crop originated from which position in the original TMA image.\n",
    "\n",
    "#### Segmentation (rule cellpose)\n",
    "\n",
    "This rule runs `cellpose` to create a segmentation mask based on the `DAPI` channel.\n",
    "It outputs the resulting segmentation mask as a tiff file.\n",
    "\n",
    "#### Segmentation processing (rule process_segmentation)\n",
    "\n",
    "This rule runs some postprocessing steps on the previously generated segmentation masks. Specifically, it removes masks with a too large or small area. It then grows the masks omnidirectional by a specified amount of pixels (to capture more of the cytoplasm and not just the nuclei). Finally, it removes cells which do not have any neighboring cells within a specified radius. The processed segmentation is stored as a tiff file.\n",
    "\n",
    "#### Cell type prediction (rule predict_celltypes)\n",
    "\n",
    "This rule uses astir to predict cell types from quantified marker abundances. It requires a yaml file that assigns markers to cell types (see example data).\n",
    "\n",
    "#### Plotting (rule plot)\n",
    "\n",
    "This rule creates plots that show markers and the corresponding cell types side by side. In addition, it creates a heatmap of the markers used for cell type prediction, as well as a UMAP plot based on a PCA on all markers (refer to the script for more details). Useful to evaluate if a cell type assignment makes sense or not."
   ]
  }
 ],
 "metadata": {
  "kernelspec": {
   "display_name": "tmp_env_3",
   "language": "python",
   "name": "tmp_env_3"
  },
  "language_info": {
   "codemirror_mode": {
    "name": "ipython",
    "version": 3
   },
   "file_extension": ".py",
   "mimetype": "text/x-python",
   "name": "python",
   "nbconvert_exporter": "python",
   "pygments_lexer": "ipython3",
   "version": "3.10.0"
  }
 },
 "nbformat": 4,
 "nbformat_minor": 5
}
